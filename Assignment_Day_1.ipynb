{
 "cells": [
  {
   "cell_type": "markdown",
   "metadata": {
    "id": "R3czUc7PCUaz"
   },
   "source": [
    "# Assignment-1 (Data  Science Essentials)\n"
   ]
  },
  {
   "cell_type": "markdown",
   "metadata": {
    "id": "zprP7IhICUa6"
   },
   "source": [
    "# Vineet Raj Parashar"
   ]
  },
  {
   "cell_type": "markdown",
   "metadata": {
    "id": "HX-JUEGoCUa-"
   },
   "source": [
    "# Questions 1:\n",
    "Given the following jumbled word, OBANWRI guess the correct English word.\n",
    "\n",
    "A. RANIBOW\n",
    "B. RAINBOW\n",
    "C. BOWRANI\n",
    "D. ROBWANI"
   ]
  },
  {
   "cell_type": "code",
   "execution_count": null,
   "metadata": {
    "id": "QQOJKmjvCUbC",
    "outputId": "05342b74-0377-4b21-a177-38824728a114"
   },
   "outputs": [
    {
     "name": "stdout",
     "output_type": "stream",
     "text": [
      "B. RAINBOW\n"
     ]
    }
   ],
   "source": [
    "print(\"B. RAINBOW\")"
   ]
  },
  {
   "cell_type": "markdown",
   "metadata": {
    "id": "EmMeEieqCUbR"
   },
   "source": [
    "# Questions 2:\n",
    "Write a program which prints “LETS UPGRADE”."
   ]
  },
  {
   "cell_type": "code",
   "execution_count": null,
   "metadata": {
    "id": "seN0LIOfCUbU",
    "outputId": "a89e1d5e-88cd-4af4-d3f1-3929f6706ec7"
   },
   "outputs": [
    {
     "name": "stdout",
     "output_type": "stream",
     "text": [
      "LETS UPGRADE\n"
     ]
    }
   ],
   "source": [
    "print(\"LETS UPGRADE\")"
   ]
  },
  {
   "cell_type": "markdown",
   "metadata": {
    "id": "6uJLVKy2CUbi"
   },
   "source": [
    "# Questions 3:\n",
    "Write a program that takes cost price and selling price as input and displays whether the transaction is a\n",
    "Profit or a Loss or Neither.\n",
    "INPUT FORMAT\n",
    "The first line contains the cost price.\n",
    "The second line contains the selling price.\n",
    "OUTPUT FORMAT\n",
    "Print \"Profit\" if the transaction is a profit or \"Loss\" if it is a loss. If it is neither\n",
    "profit nor loss, print \"Neither\"."
   ]
  },
  {
   "cell_type": "code",
   "execution_count": 1,
   "metadata": {
    "id": "RsOh9jssCUbk",
    "outputId": "6ce1c6a0-614a-447d-cc52-876191e27df4"
   },
   "outputs": [
    {
     "name": "stdout",
     "output_type": "stream",
     "text": [
      "12\n",
      "13\n",
      "Profit\n"
     ]
    }
   ],
   "source": [
    "CP = float(input())\n",
    "SP = float(input())\n",
    "\n",
    "if(CP > SP):\n",
    "    amount = CP - SP\n",
    "    print(\"Loss\")\n",
    "elif(SP > CP):\n",
    "    amount = SP - CP\n",
    "    print(\"Profit\")\n",
    "else:\n",
    "    print(\"Neither\")\n",
    "\n"
   ]
  },
  {
   "cell_type": "markdown",
   "metadata": {
    "id": "hKNra12HCUbw"
   },
   "source": [
    "# Questions 4:\n",
    "Write a program that takes an amount in Indian Rupees as input. You need to find its equivalent\n",
    "in Euro and display it. Assume 1 Euro equals Rs. 80.\n",
    "Please note that you are expected to stick to the given input and output\n",
    "format as in sample test cases. Please don't add any extra lines such as\n",
    "'Enter a number', etc.\n",
    "Your program should take only one number as input and display the output."
   ]
  },
  {
   "cell_type": "code",
   "execution_count": null,
   "metadata": {
    "id": "HBEXW7LsCUbz",
    "outputId": "0aa773f6-2a5f-4af0-bfca-3ce79c79e6b1"
   },
   "outputs": [
    {
     "name": "stdout",
     "output_type": "stream",
     "text": [
      "95\n",
      "7600 "
     ]
    }
   ],
   "source": [
    "Rs = int(input())\n",
    "print(80*Rs,end=\" \")"
   ]
  },
  {
   "cell_type": "markdown",
   "metadata": {
    "id": "O6_svCupCUcA"
   },
   "source": [
    "# Thank You"
   ]
  }
 ],
 "metadata": {
  "colab": {
   "name": "Assignment Day 1.ipynb",
   "provenance": []
  },
  "kernelspec": {
   "display_name": "Python 3",
   "language": "python",
   "name": "python3"
  },
  "language_info": {
   "codemirror_mode": {
    "name": "ipython",
    "version": 3
   },
   "file_extension": ".py",
   "mimetype": "text/x-python",
   "name": "python",
   "nbconvert_exporter": "python",
   "pygments_lexer": "ipython3",
   "version": "3.8.0"
  }
 },
 "nbformat": 4,
 "nbformat_minor": 1
}
